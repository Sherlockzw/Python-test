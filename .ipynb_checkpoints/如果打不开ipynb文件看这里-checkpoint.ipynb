{
 "cells": [
  {
   "cell_type": "markdown",
   "metadata": {},
   "source": [
    "- 在Github上虽然能够直接加载ipynb文件，但是速度很慢，并且容易加载失败。\n",
    "- 利用https://nbviewer.jupyter.org/ 可以快速加载ipynb文件\n",
    "如何使用： \n",
    "1. 一个要打开的ipynb文件， 例如 https://github.com/Sherlockzw/Python-test/blob/master/Sherlockzw/Python-test/blob/master/Python爬虫：从入门到实践/第二章练习.ipynb\n",
    "2. 截取 Sherlockzw/Python-test/blob/master/Python爬虫：从入门到实践/第二章练习.ipynb\n",
    "3. 添加至 https://nbviewer.jupyter.org/github/ 后面\n",
    "4. 最终得到https://nbviewer.jupyter.org/github/Sherlockzw/Python-test/blob/master/Python爬虫：从入门到实践/第二章练习.ipynb ，打开连接即可"
   ]
  },
  {
   "cell_type": "markdown",
   "metadata": {},
   "source": [
    "## 目录"
   ]
  },
  {
   "cell_type": "markdown",
   "metadata": {},
   "source": [
    "- 第二章练习：https://nbviewer.jupyter.org/github/Sherlockzw/Python-test/blob/master/Python爬虫：从入门到实践/第二章练习.ipynb\n",
    "- 第三章练习：https://nbviewer.jupyter.org/github/Sherlockzw/Python-test/blob/master/Python爬虫：从入门到实践/第三章练习.ipynb"
   ]
  },
  {
   "cell_type": "code",
   "execution_count": null,
   "metadata": {},
   "outputs": [],
   "source": []
  }
 ],
 "metadata": {
  "kernelspec": {
   "display_name": "Python 3",
   "language": "python",
   "name": "python3"
  },
  "language_info": {
   "codemirror_mode": {
    "name": "ipython",
    "version": 3
   },
   "file_extension": ".py",
   "mimetype": "text/x-python",
   "name": "python",
   "nbconvert_exporter": "python",
   "pygments_lexer": "ipython3",
   "version": "3.7.3"
  }
 },
 "nbformat": 4,
 "nbformat_minor": 2
}
